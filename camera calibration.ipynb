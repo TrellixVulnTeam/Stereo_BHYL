{
 "cells": [
  {
   "cell_type": "code",
   "execution_count": 1,
   "metadata": {
    "collapsed": true
   },
   "outputs": [],
   "source": [
    "import numpy as np\n",
    "import cv2\n",
    "import os\n",
    "from matplotlib import pyplot as plt"
   ]
  },
  {
   "cell_type": "code",
   "execution_count": 2,
   "metadata": {},
   "outputs": [
    {
     "name": "stdout",
     "output_type": "stream",
     "text": [
      "['./images/left/left09.jpg', './images/left/left08.jpg', './images/left/left01.jpg', './images/left/left03.jpg', './images/left/left02.jpg', './images/left/left12.jpg', './images/left/left06.jpg', './images/left/left07.jpg', './images/left/left13.jpg', './images/left/left05.jpg', './images/left/left11.jpg', './images/left/left10.jpg', './images/left/left04.jpg']\n"
     ]
    }
   ],
   "source": [
    "image_paths = []\n",
    "os.curdir\n",
    "for file_name in os.listdir('./images/left'):\n",
    "    image_paths.append('./images/left/'+ file_name)\n",
    "print(image_paths)\n"
   ]
  },
  {
   "cell_type": "code",
   "execution_count": 3,
   "metadata": {
    "collapsed": false
   },
   "outputs": [
    {
     "name": "stdout",
     "output_type": "stream",
     "text": [
      "./images/left/left09.jpg\n"
     ]
    },
    {
     "name": "stdout",
     "output_type": "stream",
     "text": [
      "./images/left/left10.jpg\n"
     ]
    },
    {
     "name": "stdout",
     "output_type": "stream",
     "text": [
      "11\n"
     ]
    }
   ],
   "source": [
    "# Arrays to store object points and image points from all the images.\n",
    "total_object_points = []\n",
    "total_image_points = []\n",
    "\n",
    "# prepare object points, like (0,0,0), (1,0,0), (2,0,0) ....,(6,5,0)\n",
    "object_points = np.zeros((6 * 9, 3), np.float32)\n",
    "object_points[:, :2] = np.mgrid[0:9, 0:6].T.reshape(-1, 2)\n",
    "success = 0\n",
    "for image_path in image_paths:\n",
    "    image = cv2.imread(image_path)\n",
    "    \n",
    "    gray_image = cv2.cvtColor(image, cv2.COLOR_BGR2GRAY)\n",
    "    \n",
    "    # Find the chess board corners\n",
    "    found, image_points = cv2.findChessboardCorners(\n",
    "        image = gray_image,\n",
    "        patternSize=(7, 6), \n",
    "        corners=None,\n",
    "    )\n",
    "\n",
    "    # If found, add object points, image points (after refining them)\n",
    "    if found:\n",
    "        \n",
    "        image_points = cv2.cornerSubPix(\n",
    "            image=gray_image,\n",
    "            corners=image_points,\n",
    "            winSize=(11, 11),\n",
    "            zeroZone=(-1, -1),\n",
    "            criteria=(\n",
    "                cv2.TERM_CRITERIA_EPS + cv2.TERM_CRITERIA_MAX_ITER,\n",
    "                30,\n",
    "                0.01\n",
    "            )\n",
    "        )\n",
    "        \n",
    "        success = success + 1\n",
    "        total_object_points.append(object_points)\n",
    "        total_image_points.append(image_points)\n",
    "    else:\n",
    "        print(image_path)\n",
    "        \n",
    "    # Draw and display the corners        \n",
    "    new_image = image.copy()\n",
    "    cv2.drawChessboardCorners(\n",
    "        image=new_image, \n",
    "        patternSize=(7, 6), \n",
    "        corners=image_points, \n",
    "        patternWasFound=found\n",
    "    )    \n",
    "        \n",
    "    plt.subplot(1,2,1)\n",
    "    plt.imshow(image)\n",
    "    plt.title(image_path)\n",
    "    plt.subplot(1,2,2)\n",
    "    plt.imshow(new_image)\n",
    "    plt.title(image_path)\n",
    "    plt.show()        \n",
    "    \n",
    "\n",
    "print(success)"
   ]
  },
  {
   "cell_type": "code",
   "execution_count": 4,
   "metadata": {
    "collapsed": true
   },
   "outputs": [
    {
     "data": {
      "text/plain": [
       "0.15540724005687173"
      ]
     },
     "execution_count": 4,
     "metadata": {},
     "output_type": "execute_result"
    }
   ],
   "source": [
    "ret, camera_matrix, distortion_coefficients, rotation_vectors, translation_vectors = cv2.calibrateCamera(\n",
    "    objectPoints=total_object_points,\n",
    "    imagePoints=total_image_points,\n",
    "    imageSize=(640,480),\n",
    "    cameraMatrix=None,\n",
    "    distCoeffs=None\n",
    ")\n",
    "ret"
   ]
  },
  {
   "cell_type": "heading",
   "metadata": {},
   "level": 1,
   "source": [
    "Undistortion"
   ]
  },
  {
   "cell_type": "code",
   "execution_count": 75,
   "metadata": {
    "collapsed": true
   },
   "outputs": [
    {
     "name": "stdout",
     "output_type": "stream",
     "text": [
      "[[534.07088364   0.         341.53407553]\n [  0.         534.11914595 232.9456526 ]\n [  0.           0.           1.        ]]\n[[462.29959106   0.         345.82843277]\n [  0.         458.94192505 234.72740344]\n [  0.           0.           1.        ]]\n"
     ]
    }
   ],
   "source": [
    "new_camera_matrix, roi=cv2.getOptimalNewCameraMatrix(\n",
    "    camera_matrix, \n",
    "    distortion_coefficients, \n",
    "    (w,h), \n",
    "    1,\n",
    "    (w,h)\n",
    ")\n",
    "print(camera_matrix)\n",
    "print(new_camera_matrix)\n",
    "\n",
    "for image_path in image_paths:\n",
    "    \n",
    "    image = cv2.imread(image_path)\n",
    "    \n",
    "    h,  w = image.shape[:2]\n",
    "    \n",
    "\n",
    "    undistorted_image = cv2.undistort(\n",
    "        src=image, \n",
    "        cameraMatrix=camera_matrix,\n",
    "        distCoeffs=distortion_coefficients, \n",
    "        dst=None,\n",
    "        newCameraMatrix=new_camera_matrix\n",
    "    )\n",
    "    \n",
    "    x, y, w, h = roi\n",
    "    undistorted_image = undistorted_image[y:y+h, x:x+w]\n",
    "    \n",
    "    plt.subplot(1,2,1)\n",
    "    plt.imshow(image)\n",
    "    plt.title(image_path)\n",
    "    plt.subplot(1,2,2)\n",
    "    plt.imshow(undistorted_image)\n",
    "    plt.title(image_path)\n",
    "    plt.show()"
   ]
  },
  {
   "cell_type": "code",
   "execution_count": 8,
   "metadata": {},
   "outputs": [
    {
     "ename": "NameError",
     "evalue": "name 'new_camera_matrix' is not defined",
     "traceback": [
      "\u001b[0;31m---------------------------------------------------------------------------\u001b[0m",
      "\u001b[0;31mNameError\u001b[0m                                 Traceback (most recent call last)",
      "\u001b[0;32m<ipython-input-8-54600f158db5>\u001b[0m in \u001b[0;36m<module>\u001b[0;34m()\u001b[0m\n\u001b[1;32m      5\u001b[0m         \u001b[0mrotation_vectors\u001b[0m\u001b[0;34m[\u001b[0m\u001b[0mi\u001b[0m\u001b[0;34m]\u001b[0m\u001b[0;34m,\u001b[0m\u001b[0;34m\u001b[0m\u001b[0;34m\u001b[0m\u001b[0m\n\u001b[1;32m      6\u001b[0m         \u001b[0mtranslation_vectors\u001b[0m\u001b[0;34m[\u001b[0m\u001b[0mi\u001b[0m\u001b[0;34m]\u001b[0m\u001b[0;34m,\u001b[0m\u001b[0;34m\u001b[0m\u001b[0;34m\u001b[0m\u001b[0m\n\u001b[0;32m----> 7\u001b[0;31m         \u001b[0mnew_camera_matrix\u001b[0m\u001b[0;34m,\u001b[0m\u001b[0;34m\u001b[0m\u001b[0;34m\u001b[0m\u001b[0m\n\u001b[0m\u001b[1;32m      8\u001b[0m         \u001b[0mdistortion_coefficients\u001b[0m\u001b[0;34m\u001b[0m\u001b[0;34m\u001b[0m\u001b[0m\n\u001b[1;32m      9\u001b[0m     )\n",
      "\u001b[0;31mNameError\u001b[0m: name 'new_camera_matrix' is not defined"
     ],
     "output_type": "error"
    }
   ],
   "source": [
    "mean_error = 0\n",
    "for i in range(len(total_object_points)):\n",
    "    image_points, _ = cv2.projectPoints(\n",
    "        total_object_points[i],\n",
    "        rotation_vectors[i],\n",
    "        translation_vectors[i],\n",
    "        camera_matrix, \n",
    "        distortion_coefficients\n",
    "    )\n",
    "    error = cv2.norm(total_image_points[i], image_points, cv2.NORM_L2)/len(image_points)\n",
    "    mean_error += error\n",
    "print( 'total error: {}'.format(mean_error) )\n",
    "print( 'mean error: {}'.format(mean_error/len(total_object_points)) )"
   ]
  },
  {
   "cell_type": "code",
   "execution_count": 108,
   "metadata": {},
   "outputs": [
    {
     "name": "stdout",
     "output_type": "stream",
     "text": [
      "[[-3.27916485]\n [ 2.15811689]\n [11.72833343]]\n[[ 3.79739146]\n [ 0.89895018]\n [14.8593055 ]]\n[[3.03685642]\n [2.74656588]\n [9.90005138]]\n[[-2.12419184]\n [ 1.84550818]\n [12.81229187]]\n[[-1.22339632]\n [ 3.52139948]\n [15.67311789]]\n[[ 1.60364763]\n [ 3.81296375]\n [16.12054474]]\n[[-5.94286695]\n [ 2.39629427]\n [16.77859026]]\n[[ 1.81888151]\n [-4.2642919 ]\n [12.45728517]]\n[[-1.13991523]\n [ 2.67424464]\n [ 9.56289277]]\n[[-2.89985494]\n [ 2.62066993]\n [10.57699258]]\n[[ 2.82321756]\n [ 2.22374307]\n [10.95762951]]\n"
     ]
    }
   ],
   "source": [
    "for i in translation_vectors:\n",
    "    print(i)"
   ]
  },
  {
   "cell_type": "code",
   "execution_count": null,
   "metadata": {},
   "outputs": [],
   "source": []
  }
 ],
 "metadata": {
  "kernelspec": {
   "display_name": "Python 2",
   "language": "python",
   "name": "python2"
  },
  "language_info": {
   "codemirror_mode": {
    "name": "ipython",
    "version": 2
   },
   "file_extension": ".py",
   "mimetype": "text/x-python",
   "name": "python",
   "nbconvert_exporter": "python",
   "pygments_lexer": "ipython2",
   "version": "2.7.6"
  }
 },
 "nbformat": 4,
 "nbformat_minor": 0
}
